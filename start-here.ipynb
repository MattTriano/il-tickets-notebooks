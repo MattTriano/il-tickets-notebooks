{
 "cells": [
  {
   "cell_type": "code",
   "execution_count": 1,
   "metadata": {},
   "outputs": [],
   "source": [
    "import pandas as pd"
   ]
  },
  {
   "cell_type": "markdown",
   "metadata": {},
   "source": [
    "# Getting started\n",
    "\n",
    "Below you can see a basic data loader from the sample data file. Copy this notebook and start analyzing! Not sure where to start with Jupyter and Pandas? Ben Welsh's [First Python Notebook](http://www.firstpythonnotebook.org/) is a great introduction."
   ]
  },
  {
   "cell_type": "code",
   "execution_count": 3,
   "metadata": {},
   "outputs": [],
   "source": [
    "df = pd.read_csv('data/hacknight_ticket_sample_data_2015.csv', low_memory=False)"
   ]
  },
  {
   "cell_type": "code",
   "execution_count": 4,
   "metadata": {},
   "outputs": [
    {
     "name": "stdout",
     "output_type": "stream",
     "text": [
      "<class 'pandas.core.frame.DataFrame'>\n",
      "RangeIndex: 50000 entries, 0 to 49999\n",
      "Data columns (total 23 columns):\n",
      "ticket_number            50000 non-null int64\n",
      "issue_date               50000 non-null object\n",
      "violation_location       50000 non-null object\n",
      "license_plate_number     50000 non-null object\n",
      "license_plate_state      49998 non-null object\n",
      "license_plate_type       49383 non-null object\n",
      "zipcode                  41550 non-null object\n",
      "violation_code           50000 non-null object\n",
      "violation_description    50000 non-null object\n",
      "unit                     50000 non-null int64\n",
      "unit_description         50000 non-null object\n",
      "vehicle_make             50000 non-null object\n",
      "fine_level1_amount       50000 non-null int64\n",
      "fine_level2_amount       50000 non-null int64\n",
      "current_amount_due       50000 non-null float64\n",
      "total_payments           50000 non-null float64\n",
      "ticket_queue             50000 non-null object\n",
      "ticket_queue_date        50000 non-null object\n",
      "notice_level             36707 non-null object\n",
      "hearing_disposition      5337 non-null object\n",
      "notice_number            50000 non-null int64\n",
      "officer                  50000 non-null object\n",
      "address                  50000 non-null object\n",
      "dtypes: float64(2), int64(5), object(16)\n",
      "memory usage: 8.8+ MB\n"
     ]
    }
   ],
   "source": [
    "df.info()"
   ]
  }
 ],
 "metadata": {
  "kernelspec": {
   "display_name": "Python 3",
   "language": "python",
   "name": "python3"
  },
  "language_info": {
   "codemirror_mode": {
    "name": "ipython",
    "version": 3
   },
   "file_extension": ".py",
   "mimetype": "text/x-python",
   "name": "python",
   "nbconvert_exporter": "python",
   "pygments_lexer": "ipython3",
   "version": "3.6.4"
  }
 },
 "nbformat": 4,
 "nbformat_minor": 2
}
